{
 "cells": [
  {
   "cell_type": "code",
   "execution_count": 62,
   "id": "b9fb638f-bcdb-46ca-877e-7c952f8b597a",
   "metadata": {},
   "outputs": [],
   "source": [
    "import gams\n",
    "import pandas as pd\n",
    "import numpy as np\n",
    "import matplotlib as plt"
   ]
  },
  {
   "cell_type": "code",
   "execution_count": 117,
   "id": "2e1e93f5-04d9-430d-9d4b-0bebc264cb87",
   "metadata": {},
   "outputs": [],
   "source": [
    "# Save gen_nodes csv\n",
    "# with microturbine\n",
    "gen_nodes = pd.DataFrame([['n1', 'g1'],['n2', 'g2'], ['n3', 'g3'],['n3', 'g4']])\n",
    "\n",
    "# without microturbine\n",
    "# gen_nodes = pd.DataFrame([['n1', 'g1'],['n2', 'g2'], ['n3', 'g3']])\n",
    "\n",
    "gen_nodes.to_csv(\"data/gen_nodes.csv\", index=False, header=False)\n",
    "\n",
    "# Save generator data to csv\n",
    "#with microturbine\n",
    "gen = {'hr_marg':[11.2, 7.8, 0, 7.8],\n",
    "    'hr_base':[150, 300, 0, 300],\n",
    "    'max_gen':[900, 500, 200, 50],\n",
    "    'min_gen':[100, 100, 0, 10],\n",
    "    'ramp':[900, 500, 200, 50],\n",
    "    'vom':[4.54, 15.7, 2, 15.7],\n",
    "    'start_cost':[48000, 1000, 0, 200],\n",
    "    'fuel':[2.21, 3.26, 0.13, 3.26],\n",
    "    'min_downtime':[32, 4, 0, 4]} \n",
    "generator_data = pd.DataFrame(data=gen, index=['g1','g2','g3','g4'])\n",
    "\n",
    "# without microturbine\n",
    "# gen = {'hr_marg':[11.2, 7.8, 0],\n",
    "#     'hr_base':[150, 300, 0],\n",
    "#     'max_gen':[1500, 1000, 700],\n",
    "#     'min_gen':[125, 35, 0],\n",
    "#     'ramp':[75, 50, 1000],\n",
    "#     'vom':[4.54, 15.7, 2],\n",
    "#     'start_cost':[48000, 1000, 0],\n",
    "#     'fuel':[2.21, 3.26, 0.13],\n",
    "#     'min_downtime':[32, 4, 0]} \n",
    "# generator_data = pd.DataFrame(data=gen, index=['g1','g2','g3'])\n",
    "\n",
    "generator_data.to_csv(\"data/generator_data.csv\")\n",
    "\n",
    "# Save line data to csv\n",
    "line = {'n':['n1','n2','n3','n4','n4','n5','n6','n7','n8'],\n",
    "    'nn':['n4','n7','n9','n5','n6','n7','n9','n8','n9'],\n",
    "    'x':[0.1,0.1,0.1,0.1,0.1,0.1,0.1,0.1,0.1],\n",
    "    'lim':[2000,2000,2000,2000,2000,2000,2000,2000,2000]}\n",
    "line_data = pd.DataFrame(data=line)\n",
    "line_data.to_csv(\"data/line_data.csv\", index=False)\n",
    "\n",
    "# Save node load factor data to csv\n",
    "nlf = {'load':[0,0,0.15,0,0.15,0.15,0,0.15,0],\n",
    "    'crit_load':[0,0,0.15,0,0.12,0.08,0,0.05,0]}\n",
    "generator_data = pd.DataFrame(data=nlf, index=['n1','n2','n3','n4','n5','n6','n7','n8','n9'])\n",
    "generator_data.to_csv(\"data/nodeloadfactors.csv\")\n",
    "\n",
    "#Save fault time to csv\n",
    "fault_end = 200 #2-hour fault\n",
    "#fault_end = 216 #24-hour fault\n",
    "#fault_end = 576 #96-hour fault\n",
    "\n",
    "fault_time = pd.DataFrame()\n",
    "for i in range(192,fault_end):\n",
    "    value = 't'+str(i)\n",
    "    n = pd.DataFrame([value])\n",
    "    fault_time = pd.concat([fault_time,n])\n",
    "fault_time.to_csv(\"data/fault_time.csv\", index=False, header=False)"
   ]
  },
  {
   "cell_type": "code",
   "execution_count": 42,
   "id": "d167e07d-ef48-4af1-8d81-46c5e72030fa",
   "metadata": {},
   "outputs": [
    {
     "ename": "NameError",
     "evalue": "name 'GamsWorkspace' is not defined",
     "output_type": "error",
     "traceback": [
      "\u001b[0;31m---------------------------------------------------------------------------\u001b[0m",
      "\u001b[0;31mNameError\u001b[0m                                 Traceback (most recent call last)",
      "\u001b[0;32m<ipython-input-42-d9e4008d61fe>\u001b[0m in \u001b[0;36m<module>\u001b[0;34m\u001b[0m\n\u001b[0;32m----> 1\u001b[0;31m \u001b[0mGamsWorkspace\u001b[0m\u001b[0;34m(\u001b[0m\u001b[0;34m)\u001b[0m\u001b[0;34m.\u001b[0m\u001b[0mgamslib\u001b[0m\u001b[0;34m(\u001b[0m\u001b[0;34m\"main\"\u001b[0m\u001b[0;34m)\u001b[0m\u001b[0;34m\u001b[0m\u001b[0;34m\u001b[0m\u001b[0m\n\u001b[0m\u001b[1;32m      2\u001b[0m \u001b[0mt1\u001b[0m \u001b[0;34m=\u001b[0m \u001b[0mws\u001b[0m\u001b[0;34m.\u001b[0m\u001b[0madd_job_from_file\u001b[0m\u001b[0;34m(\u001b[0m\u001b[0;34m\"main.gms\"\u001b[0m\u001b[0;34m)\u001b[0m\u001b[0;34m\u001b[0m\u001b[0;34m\u001b[0m\u001b[0m\n\u001b[1;32m      3\u001b[0m \u001b[0mt1\u001b[0m\u001b[0;34m.\u001b[0m\u001b[0mrun\u001b[0m\u001b[0;34m(\u001b[0m\u001b[0;34m)\u001b[0m\u001b[0;34m\u001b[0m\u001b[0;34m\u001b[0m\u001b[0m\n",
      "\u001b[0;31mNameError\u001b[0m: name 'GamsWorkspace' is not defined"
     ]
    }
   ],
   "source": [
    "# GamsWorkspace().gamslib(\"main\")\n",
    "# t1 = ws.add_job_from_file(\"main.gms\")\n",
    "# t1.run()"
   ]
  },
  {
   "cell_type": "code",
   "execution_count": 112,
   "id": "a3a8b8f7-002f-4cc2-bf98-f27679a28829",
   "metadata": {},
   "outputs": [],
   "source": [
    "fault_time = pd.DataFrame()\n",
    "for i in range(11):\n",
    "    value = 't'+str(i)\n",
    "    n = pd.DataFrame([value])\n",
    "    fault_time = pd.concat([fault_time,n])\n"
   ]
  },
  {
   "cell_type": "code",
   "execution_count": 113,
   "id": "1d6c1282-7e0e-4c59-8aa6-4034bf75e440",
   "metadata": {},
   "outputs": [
    {
     "data": {
      "text/html": [
       "<div>\n",
       "<style scoped>\n",
       "    .dataframe tbody tr th:only-of-type {\n",
       "        vertical-align: middle;\n",
       "    }\n",
       "\n",
       "    .dataframe tbody tr th {\n",
       "        vertical-align: top;\n",
       "    }\n",
       "\n",
       "    .dataframe thead th {\n",
       "        text-align: right;\n",
       "    }\n",
       "</style>\n",
       "<table border=\"1\" class=\"dataframe\">\n",
       "  <thead>\n",
       "    <tr style=\"text-align: right;\">\n",
       "      <th></th>\n",
       "      <th>0</th>\n",
       "    </tr>\n",
       "  </thead>\n",
       "  <tbody>\n",
       "    <tr>\n",
       "      <th>0</th>\n",
       "      <td>t0</td>\n",
       "    </tr>\n",
       "    <tr>\n",
       "      <th>0</th>\n",
       "      <td>t1</td>\n",
       "    </tr>\n",
       "    <tr>\n",
       "      <th>0</th>\n",
       "      <td>t2</td>\n",
       "    </tr>\n",
       "    <tr>\n",
       "      <th>0</th>\n",
       "      <td>t3</td>\n",
       "    </tr>\n",
       "    <tr>\n",
       "      <th>0</th>\n",
       "      <td>t4</td>\n",
       "    </tr>\n",
       "    <tr>\n",
       "      <th>0</th>\n",
       "      <td>t5</td>\n",
       "    </tr>\n",
       "    <tr>\n",
       "      <th>0</th>\n",
       "      <td>t6</td>\n",
       "    </tr>\n",
       "    <tr>\n",
       "      <th>0</th>\n",
       "      <td>t7</td>\n",
       "    </tr>\n",
       "    <tr>\n",
       "      <th>0</th>\n",
       "      <td>t8</td>\n",
       "    </tr>\n",
       "    <tr>\n",
       "      <th>0</th>\n",
       "      <td>t9</td>\n",
       "    </tr>\n",
       "    <tr>\n",
       "      <th>0</th>\n",
       "      <td>t10</td>\n",
       "    </tr>\n",
       "  </tbody>\n",
       "</table>\n",
       "</div>"
      ],
      "text/plain": [
       "     0\n",
       "0   t0\n",
       "0   t1\n",
       "0   t2\n",
       "0   t3\n",
       "0   t4\n",
       "0   t5\n",
       "0   t6\n",
       "0   t7\n",
       "0   t8\n",
       "0   t9\n",
       "0  t10"
      ]
     },
     "execution_count": 113,
     "metadata": {},
     "output_type": "execute_result"
    }
   ],
   "source": [
    "fault_time"
   ]
  },
  {
   "cell_type": "code",
   "execution_count": null,
   "id": "281deacb-68b2-4f50-86c6-1ad11d5d8f63",
   "metadata": {},
   "outputs": [],
   "source": []
  }
 ],
 "metadata": {
  "kernelspec": {
   "display_name": "Python 3",
   "language": "python",
   "name": "python3"
  },
  "language_info": {
   "codemirror_mode": {
    "name": "ipython",
    "version": 3
   },
   "file_extension": ".py",
   "mimetype": "text/x-python",
   "name": "python",
   "nbconvert_exporter": "python",
   "pygments_lexer": "ipython3",
   "version": "3.9.4"
  }
 },
 "nbformat": 4,
 "nbformat_minor": 5
}
